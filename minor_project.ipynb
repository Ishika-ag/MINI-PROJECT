{
  "nbformat": 4,
  "nbformat_minor": 0,
  "metadata": {
    "colab": {
      "name": "minor project.ipynb",
      "provenance": [],
      "collapsed_sections": [],
      "mount_file_id": "1Y_yKNcXtFrz9sPrOz0MMaNCxflT-Uv8B",
      "authorship_tag": "ABX9TyOoYmQ3eBnCNkqqg7n9bNil",
      "include_colab_link": true
    },
    "kernelspec": {
      "name": "python3",
      "display_name": "Python 3"
    },
    "language_info": {
      "name": "python"
    }
  },
  "cells": [
    {
      "cell_type": "markdown",
      "metadata": {
        "id": "view-in-github",
        "colab_type": "text"
      },
      "source": [
        "<a href=\"https://colab.research.google.com/github/Ishika-ag/MINI-PROJECT/blob/main/minor_project.ipynb\" target=\"_parent\"><img src=\"https://colab.research.google.com/assets/colab-badge.svg\" alt=\"Open In Colab\"/></a>"
      ]
    },
    {
      "cell_type": "code",
      "metadata": {
        "colab": {
          "base_uri": "https://localhost:8080/"
        },
        "id": "9dO0fHigm6F1",
        "outputId": "5bbfd2fe-9a7a-4f8a-fa7b-febf33a9c82f"
      },
      "source": [
        "\n",
        "!pip install bing-image-downloader"
      ],
      "execution_count": null,
      "outputs": [
        {
          "output_type": "stream",
          "text": [
            "Requirement already satisfied: bing-image-downloader in /usr/local/lib/python3.7/dist-packages (1.1.1)\n"
          ],
          "name": "stdout"
        }
      ]
    },
    {
      "cell_type": "code",
      "metadata": {
        "id": "ReTUuf23m_aV",
        "colab": {
          "base_uri": "https://localhost:8080/"
        },
        "outputId": "83694a6e-0c40-4c12-9b20-a07053550437"
      },
      "source": [
        "!mkdir images"
      ],
      "execution_count": null,
      "outputs": [
        {
          "output_type": "stream",
          "text": [
            "mkdir: cannot create directory ‘images’: File exists\n"
          ],
          "name": "stdout"
        }
      ]
    },
    {
      "cell_type": "code",
      "metadata": {
        "colab": {
          "base_uri": "https://localhost:8080/"
        },
        "id": "eJfPWZr2m_c0",
        "outputId": "a8d938fc-04a4-48b1-c8f4-a5c1a9c33110"
      },
      "source": [
        "from bing_image_downloader import downloader\n",
        "downloader.download(\"hills\", limit= 30 , output_dir='images',adult_filter_off= True)"
      ],
      "execution_count": null,
      "outputs": [
        {
          "output_type": "stream",
          "text": [
            "[%] Downloading Images to /content/images/hills\n",
            "\n",
            "\n",
            "[!!]Indexing page: 1\n",
            "\n",
            "[%] Indexed 30 Images on Page 1.\n",
            "\n",
            "===============================================\n",
            "\n",
            "[%] Downloading Image #1 from https://sp-images.summitpost.org/841555.jpg?auto=format&amp;fit=max&amp;h=1000&amp;ixlib=php-2.1.1&amp;q=35&amp;s=c8c38301280b5fd59ec7b0c1bfdedca4\n",
            "[!] Issue getting: https://sp-images.summitpost.org/841555.jpg?auto=format&amp;fit=max&amp;h=1000&amp;ixlib=php-2.1.1&amp;q=35&amp;s=c8c38301280b5fd59ec7b0c1bfdedca4\n",
            "[!] Error:: HTTP Error 403: Forbidden\n",
            "[%] Downloading Image #1 from https://images3.roofandfloor.com/listing_00202010000700090033000000000009/1024x600/arsis-green-hills-true-view-in-322-1602043616130.jpg\n",
            "[%] File Downloaded !\n",
            "\n",
            "[%] Downloading Image #2 from https://s22658.pcdn.co/wp-content/uploads/2020/03/Centennial_scaled.jpg\n",
            "[%] File Downloaded !\n",
            "\n",
            "[%] Downloading Image #3 from http://3.bp.blogspot.com/_j03anToF4sQ/SwSgUZTrJBI/AAAAAAAAF4k/q8ht2FL-BoE/w1200-h630-p-k-no-nu/wayah365.JPG\n",
            "[%] File Downloaded !\n",
            "\n",
            "[%] Downloading Image #4 from http://smalltowngirlsmidnighttrains.com/wp-content/uploads/2014/07/rolling-hills_01.jpg?w=440\n",
            "[%] File Downloaded !\n",
            "\n",
            "[%] Downloading Image #5 from http://www.geometrie.tugraz.at/events/og2011/niloy/08_these_are_the_true_hills.jpg\n",
            "[%] File Downloaded !\n",
            "\n",
            "[%] Downloading Image #6 from https://3.bp.blogspot.com/_j03anToF4sQ/SwSgTg4e6NI/AAAAAAAAF4U/1nbhvV8U96s/s1600/wayah369A.jpg\n",
            "[%] File Downloaded !\n",
            "\n",
            "[%] Downloading Image #7 from http://bh-s2.azureedge.net/bh-uploads/2015/11/the-hills-have-eyes1-1-1200x680.jpg\n",
            "[%] File Downloaded !\n",
            "\n",
            "[%] Downloading Image #8 from https://s22658.pcdn.co/wp-content/uploads/2020/03/Lead07-29-19cc0090_scaled-1024x683.jpg\n",
            "[%] File Downloaded !\n",
            "\n",
            "[%] Downloading Image #9 from https://s22658.pcdn.co/wp-content/uploads/2020/03/Camping_Hero_scaled-1024x683.jpg\n",
            "[%] File Downloaded !\n",
            "\n",
            "[%] Downloading Image #10 from https://s22658.pcdn.co/wp-content/uploads/2017/05/GardenofGodsNM14_scaled.jpg\n",
            "[%] File Downloaded !\n",
            "\n",
            "[%] Downloading Image #11 from https://i2.wp.com/smalltowngirlsmidnighttrains.com/wp-content/uploads/2014/07/rolling-hills_06.jpg\n",
            "[%] File Downloaded !\n",
            "\n",
            "[%] Downloading Image #12 from https://i.pinimg.com/736x/be/99/d2/be99d2508f7c1003ba527671d4551309.jpg\n",
            "[%] File Downloaded !\n",
            "\n",
            "[%] Downloading Image #13 from http://blackhillstrue.weebly.com/uploads/1/7/6/1/17613645/7047438_orig.jpg\n",
            "[%] File Downloaded !\n",
            "\n",
            "[%] Downloading Image #14 from https://ws-eu.amazon-adsystem.com/widgets/q?_encoding=UTF8&amp;MarketPlace=GB&amp;ASIN=B000FAO6P0&amp;ServiceVersion=20070822&amp;ID=AsinImage&amp;WS=1&amp;Format=_SL250_&amp;tag=sbasdeo1-21\n",
            "[!] Issue getting: https://ws-eu.amazon-adsystem.com/widgets/q?_encoding=UTF8&amp;MarketPlace=GB&amp;ASIN=B000FAO6P0&amp;ServiceVersion=20070822&amp;ID=AsinImage&amp;WS=1&amp;Format=_SL250_&amp;tag=sbasdeo1-21\n",
            "[!] Error:: HTTP Error 500: Internal Server Error\n",
            "[%] Downloading Image #14 from http://www.modhub.us/uploads/files/photos/2016_10/westbridge-hills-hd-true-american-edit-v_5.jpg\n",
            "[%] File Downloaded !\n",
            "\n",
            "[%] Downloading Image #15 from http://www.truecuttree.com/wp-content/uploads/2020/02/Oakland-Hills-Country-Club-Bloomfield-Hills-1024x809.jpg\n",
            "[%] File Downloaded !\n",
            "\n",
            "[%] Downloading Image #16 from https://i.pinimg.com/originals/51/6b/78/516b781b4bf0a51122fcdbf83258fbf6.png\n",
            "[%] File Downloaded !\n",
            "\n",
            "[%] Downloading Image #17 from http://cimss.ssec.wisc.edu/goes/blog/wp-content/uploads/2008/05/080503_modis_truecolor_google.jpg\n",
            "[%] File Downloaded !\n",
            "\n",
            "[%] Downloading Image #18 from https://true5stars.com/api/hashstore_get/b89c54afe24a4d80ab67481b8985fbd2.jpg?large=true\n",
            "[%] File Downloaded !\n",
            "\n",
            "[%] Downloading Image #19 from https://redwoodhillfarm.org/wp-content/uploads/2020/06/carousel-1-june-1.jpg\n",
            "[%] File Downloaded !\n",
            "\n",
            "[%] Downloading Image #20 from https://img.jamesedition.com/listing_images/2020/04/13/17/51/38/656fe674-5f52-4536-90b6-3808088001d6/je/2000xxsxm.jpg\n",
            "[%] File Downloaded !\n",
            "\n",
            "[%] Downloading Image #21 from https://live.staticflickr.com/6230/6297186231_0f7f72492c_b.jpg\n",
            "[%] File Downloaded !\n",
            "\n",
            "[%] Downloading Image #22 from http://blackhillstrue.weebly.com/uploads/1/7/6/1/17613645/5404618_orig.jpg\n",
            "[%] File Downloaded !\n",
            "\n",
            "[%] Downloading Image #23 from https://truedevelopments.ca/wp-content/uploads/2018/01/5313-17-Avenue-SE_052-1-1024x768.jpg\n",
            "[%] File Downloaded !\n",
            "\n",
            "[%] Downloading Image #24 from https://published-assets.ari-build.com/Content/Published/Site/26240/images/heroshot-12.jpg\n",
            "[%] File Downloaded !\n",
            "\n",
            "[%] Downloading Image #25 from https://i.ytimg.com/vi/s6QXEYFcOnQ/maxresdefault.jpg\n",
            "[%] File Downloaded !\n",
            "\n",
            "[%] Downloading Image #26 from https://i.pinimg.com/originals/bf/8a/dc/bf8adcf0c8bf89f011c9517579831dde.png\n",
            "[%] File Downloaded !\n",
            "\n",
            "[%] Downloading Image #27 from https://i1.ypcdn.com/blob/c503ec8bb410559e67ab4291462846396ddab2dc\n",
            "[%] File Downloaded !\n",
            "\n",
            "[%] Downloading Image #28 from https://nashvilleguru.com/officialwebsite/wp-content/uploads/2018/10/Green-Hills-Nashville-10-480x320.jpg\n",
            "[%] File Downloaded !\n",
            "\n",
            "\n",
            "\n",
            "[!!]Indexing page: 2\n",
            "\n",
            "[%] Indexed 35 Images on Page 2.\n",
            "\n",
            "===============================================\n",
            "\n",
            "[%] Downloading Image #29 from https://sp-images.summitpost.org/841555.jpg?auto=format&amp;fit=max&amp;h=1000&amp;ixlib=php-2.1.1&amp;q=35&amp;s=c8c38301280b5fd59ec7b0c1bfdedca4\n",
            "[!] Issue getting: https://sp-images.summitpost.org/841555.jpg?auto=format&amp;fit=max&amp;h=1000&amp;ixlib=php-2.1.1&amp;q=35&amp;s=c8c38301280b5fd59ec7b0c1bfdedca4\n",
            "[!] Error:: HTTP Error 403: Forbidden\n",
            "[%] Downloading Image #29 from https://images3.roofandfloor.com/listing_00202010000700090033000000000009/1024x600/arsis-green-hills-true-view-in-322-1602043616130.jpg\n",
            "[%] File Downloaded !\n",
            "\n",
            "[%] Downloading Image #30 from https://s22658.pcdn.co/wp-content/uploads/2020/03/Centennial_scaled.jpg\n",
            "[%] File Downloaded !\n",
            "\n",
            "\n",
            "\n",
            "[%] Done. Downloaded 30 images.\n",
            "===============================================\n",
            "\n",
            "Please show your support here\n",
            "https://www.buymeacoffee.com/gurugaurav\n",
            "\n",
            "===============================================\n",
            "\n"
          ],
          "name": "stdout"
        }
      ]
    },
    {
      "cell_type": "code",
      "metadata": {
        "colab": {
          "base_uri": "https://localhost:8080/"
        },
        "id": "tiwqB_efm_fT",
        "outputId": "65aa33e6-e007-4086-b283-e65ef0d1201f"
      },
      "source": [
        "downloader.download(\"beach\", limit= 30 , output_dir='images',adult_filter_off= True)"
      ],
      "execution_count": null,
      "outputs": [
        {
          "output_type": "stream",
          "text": [
            "[%] Downloading Images to /content/images/beach\n",
            "\n",
            "\n",
            "[!!]Indexing page: 1\n",
            "\n",
            "[%] Indexed 30 Images on Page 1.\n",
            "\n",
            "===============================================\n",
            "\n",
            "[%] Downloading Image #1 from https://i.pinimg.com/originals/af/4b/56/af4b5638a351577ffa176313b02fadd7.jpg\n",
            "[%] File Downloaded !\n",
            "\n",
            "[%] Downloading Image #2 from http://wordpress.point2.com/624400/wp-content/uploads/sites/4531/2020/06/mayto.jpg\n",
            "[%] File Downloaded !\n",
            "\n",
            "[%] Downloading Image #3 from https://mediaserver.realestate.co.nz/listings/3003840/9564eb94553e4d0a76247a1f080c4cb5.crop.990x661.jpg\n",
            "[%] File Downloaded !\n",
            "\n",
            "[%] Downloading Image #4 from https://www.totalokinawa.com/wp-content/uploads/2020/07/DSCF3012-scaled.jpg\n",
            "[%] File Downloaded !\n",
            "\n",
            "[%] Downloading Image #5 from https://assets.thesparksite.com/uploads/sites/834/2019/09/solana-beach.jpg\n",
            "[%] File Downloaded !\n",
            "\n",
            "[%] Downloading Image #6 from https://media-cdn.tripadvisor.com/media/vr-splice-j/06/6c/a7/c7.jpg\n",
            "[%] File Downloaded !\n",
            "\n",
            "[%] Downloading Image #7 from https://sncdn.com/db/id/1696027/g439460.jpg\n",
            "[%] File Downloaded !\n",
            "\n",
            "[%] Downloading Image #8 from https://stories.cheapcaribbean.com/wp-content/uploads/2020/05/Aruba-Riu-Palace-Antillas-Ocean-Sunset-farinaxo.jpg\n",
            "[%] File Downloaded !\n",
            "\n",
            "[%] Downloading Image #9 from https://media-cdn.tripadvisor.com/media/vr-splice-j/00/34/af/e5.jpg\n",
            "[%] File Downloaded !\n",
            "\n",
            "[%] Downloading Image #10 from http://www.poseidondiveadventures.com/destinations/windwardIsland_trueBlueBeachResort_3.jpg\n",
            "[%] File Downloaded !\n",
            "\n",
            "[%] Downloading Image #11 from https://thumbs.dreamstime.com/z/malibu-beach-dreams-come-true-malibu-beach-dreams-full-joy-true-happiness-away-unleashed-world-foreground-127506050.jpg\n",
            "[%] File Downloaded !\n",
            "\n",
            "[%] Downloading Image #12 from https://trueliferecovery.com/wp-content/uploads/2016/03/true-life-recovery-beach-1.jpg\n",
            "[%] File Downloaded !\n",
            "\n",
            "[%] Downloading Image #13 from https://sncdn.com/db/id/1696027/g439463.jpg\n",
            "[%] File Downloaded !\n",
            "\n",
            "[%] Downloading Image #14 from https://i.pinimg.com/originals/65/cb/2d/65cb2d6ed9a7f5a1e9011d8289038940.jpg\n",
            "[%] File Downloaded !\n",
            "\n",
            "[%] Downloading Image #15 from http://2.bp.blogspot.com/-Xd72b-cfT4E/Vi_MEMSrsBI/AAAAAAAAe7E/JJsgDCJ2bqQ/s1600/DSC_0690_2.jpg\n",
            "[%] File Downloaded !\n",
            "\n",
            "[%] Downloading Image #16 from https://i.pinimg.com/originals/6c/0e/96/6c0e96d6f64640d1c3197fa4b33775ba.jpg\n",
            "[%] File Downloaded !\n",
            "\n",
            "[%] Downloading Image #17 from https://farm5.static.flickr.com/4501/37679076191_0d5b6b41de_b.jpg\n",
            "[%] File Downloaded !\n",
            "\n",
            "[%] Downloading Image #18 from http://www.trueasiamyanmar.com/wp-content/uploads/2015/09/ngapali-beach-banner.jpg\n",
            "[%] File Downloaded !\n",
            "\n",
            "[%] Downloading Image #19 from https://www.glensgolfvacations.com/wp-content/uploads/2018/04/hole-9-1-e1523474154243.jpg\n",
            "[%] File Downloaded !\n",
            "\n",
            "[%] Downloading Image #20 from https://odis.homeaway.com/odis/listing/9b6043a5-4007-4bcd-beda-70f0b16c09dd.c10.jpg\n",
            "[%] File Downloaded !\n",
            "\n",
            "[%] Downloading Image #21 from https://d9vsqr3efxnza.cloudfront.net/content/myrtle-beach-golf-central/images/true-blue-golf/true-blue-hole-13.jpg\n",
            "[%] File Downloaded !\n",
            "\n",
            "[%] Downloading Image #22 from https://stories.cheapcaribbean.com/wp-content/uploads/2016/03/Secrets-Wild-Orchid-view-tag-@andehh-e1514487286245-1024x623.jpg\n",
            "[%] File Downloaded !\n",
            "\n",
            "[%] Downloading Image #23 from https://www.golfdom.com/wp-content/uploads/2016/09/True-Blue-1024x943.jpeg\n",
            "[%] File Downloaded !\n",
            "\n",
            "[%] Downloading Image #24 from https://coconuts.co/wp-content/uploads/2016/11/napasai-view.jpg\n",
            "[%] File Downloaded !\n",
            "\n",
            "[%] Downloading Image #25 from http://www.myrtlebeachgolfcentral.com/images/true-blue-golf/true-blue-hole-3.jpg\n",
            "[%] File Downloaded !\n",
            "\n",
            "[%] Downloading Image #26 from https://3.bp.blogspot.com/-axABq815_OA/Vi-FO14jbrI/AAAAAAAAe5M/Wc9ANYRP9UI/s1600/DSC_0651_2.jpg\n",
            "[%] File Downloaded !\n",
            "\n",
            "[%] Downloading Image #27 from http://odis.homeaway.com/odis/listing/db033445-922f-4ea2-b066-63f0e03bf3f9.c10.jpg\n",
            "[%] File Downloaded !\n",
            "\n",
            "[%] Downloading Image #28 from https://i.pinimg.com/originals/29/a9/41/29a941599386f6c322320ed502790515.jpg\n",
            "[%] File Downloaded !\n",
            "\n",
            "[%] Downloading Image #29 from http://i.huffpost.com/gen/1254384/images/o-ROMATIC-BEACH-facebook.jpg\n",
            "[%] File Downloaded !\n",
            "\n",
            "[%] Downloading Image #30 from https://stories.cheapcaribbean.com/wp-content/uploads/2020/11/Now-Larimar-PC-Pool-View-1-Taylor.jpg\n",
            "[%] File Downloaded !\n",
            "\n",
            "\n",
            "\n",
            "[%] Done. Downloaded 30 images.\n",
            "===============================================\n",
            "\n",
            "Please show your support here\n",
            "https://www.buymeacoffee.com/gurugaurav\n",
            "\n",
            "===============================================\n",
            "\n"
          ],
          "name": "stdout"
        }
      ]
    },
    {
      "cell_type": "code",
      "metadata": {
        "id": "uvUzrJosm_h4"
      },
      "source": [
        "import os\n",
        "import matplotlib.pyplot as plt\n",
        "import numpy as np\n",
        "from skimage.io import imread\n",
        "from skimage.transform import resize\n",
        "\n",
        "target=[]\n",
        "images=[]\n",
        "flat_data=[]\n",
        "\n",
        "DATADIR= '/content/images'\n",
        "CATEGORIES= ['hills', 'beach']\n",
        "\n",
        "for category in CATEGORIES:\n",
        "  class_num = CATEGORIES.index(category)\n",
        "  path=os.path.join(DATADIR , category)\n",
        "  \n",
        "\n",
        "  for img in os.listdir(path):\n",
        "    img_array=imread(os.path.join(path,img))\n",
        "    img_resized =resize(img_array,(150,150,3))\n",
        "    flat_data.append(img_resized.flatten())\n",
        "    images.append(img_resized)\n",
        "    target.append(class_num)\n",
        "\n",
        "flat_data= np.array(flat_data)\n",
        "target= np.array(target)\n",
        "images= np.array(images)\n"
      ],
      "execution_count": null,
      "outputs": []
    },
    {
      "cell_type": "code",
      "metadata": {
        "colab": {
          "base_uri": "https://localhost:8080/",
          "height": 282
        },
        "id": "63U-NmWvm_kf",
        "outputId": "565e4962-ff0a-4efb-fe65-afa836a64c35"
      },
      "source": [
        "unique, count = np.unique(target, return_counts=True)\n",
        "plt.bar(CATEGORIES,count)"
      ],
      "execution_count": null,
      "outputs": [
        {
          "output_type": "execute_result",
          "data": {
            "text/plain": [
              "<BarContainer object of 2 artists>"
            ]
          },
          "metadata": {
            "tags": []
          },
          "execution_count": 6
        },
        {
          "output_type": "display_data",
          "data": {
            "image/png": "[encoded data removed]",
            "text/plain": [
              "<Figure size 432x288 with 1 Axes>"
            ]
          },
          "metadata": {
            "tags": [],
            "needs_background": "light"
          }
        }
      ]
    },
    {
      "cell_type": "code",
      "metadata": {
        "id": "qRDqwfkdm_nB"
      },
      "source": [
        "from sklearn.model_selection import train_test_split\n",
        "x_train, x_test , y_train, y_test = train_test_split (flat_data, target,random_state= 79)\n"
      ],
      "execution_count": null,
      "outputs": []
    },
    {
      "cell_type": "code",
      "metadata": {
        "colab": {
          "base_uri": "https://localhost:8080/"
        },
        "id": "w7VKOqxZm_pc",
        "outputId": "360ff99d-d2bf-4769-f08a-ec5f36178f08"
      },
      "source": [
        "from sklearn.model_selection import GridSearchCV\n",
        "from sklearn import svm\n",
        "param_grid= [\n",
        "             {'C':[1,10,100,1000],'kernel':['linear']},\n",
        "             {'C':[1,10,100,1000],'gamma':[0.001 , 0.0001],'kernel':['rbf']},\n",
        "]\n",
        "svc= svm.SVC(probability= True)\n",
        "clf =GridSearchCV(svc,param_grid)\n",
        "clf.fit(x_train,y_train)"
      ],
      "execution_count": null,
      "outputs": [
        {
          "output_type": "execute_result",
          "data": {
            "text/plain": [
              "GridSearchCV(cv=None, error_score=nan,\n",
              "             estimator=SVC(C=1.0, break_ties=False, cache_size=200,\n",
              "                           class_weight=None, coef0=0.0,\n",
              "                           decision_function_shape='ovr', degree=3,\n",
              "                           gamma='scale', kernel='rbf', max_iter=-1,\n",
              "                           probability=True, random_state=None, shrinking=True,\n",
              "                           tol=0.001, verbose=False),\n",
              "             iid='deprecated', n_jobs=None,\n",
              "             param_grid=[{'C': [1, 10, 100, 1000], 'kernel': ['linear']},\n",
              "                         {'C': [1, 10, 100, 1000], 'gamma': [0.001, 0.0001],\n",
              "                          'kernel': ['rbf']}],\n",
              "             pre_dispatch='2*n_jobs', refit=True, return_train_score=False,\n",
              "             scoring=None, verbose=0)"
            ]
          },
          "metadata": {
            "tags": []
          },
          "execution_count": 46
        }
      ]
    },
    {
      "cell_type": "code",
      "metadata": {
        "colab": {
          "base_uri": "https://localhost:8080/"
        },
        "id": "msaiX3rOm_r9",
        "outputId": "52c0d35c-894a-4bc6-b348-57c7531047ef"
      },
      "source": [
        "y_pred = clf.predict(x_test)\n",
        "y_pred"
      ],
      "execution_count": null,
      "outputs": [
        {
          "output_type": "execute_result",
          "data": {
            "text/plain": [
              "array([0, 1, 0, 1, 1, 1, 1, 1, 1, 1, 1, 0, 1, 0, 0])"
            ]
          },
          "metadata": {
            "tags": []
          },
          "execution_count": 47
        }
      ]
    },
    {
      "cell_type": "code",
      "metadata": {
        "colab": {
          "base_uri": "https://localhost:8080/"
        },
        "id": "X-WpV3wxm_uZ",
        "outputId": "b0810156-ceda-4cb6-fe78-6920c3f02299"
      },
      "source": [
        "y_test"
      ],
      "execution_count": null,
      "outputs": [
        {
          "output_type": "execute_result",
          "data": {
            "text/plain": [
              "array([0, 1, 1, 0, 1, 1, 1, 0, 1, 1, 1, 0, 1, 0, 0])"
            ]
          },
          "metadata": {
            "tags": []
          },
          "execution_count": 48
        }
      ]
    },
    {
      "cell_type": "code",
      "metadata": {
        "id": "zCId5kZSm_w3"
      },
      "source": [
        "from sklearn.metrics import accuracy_score ,confusion_matrix"
      ],
      "execution_count": null,
      "outputs": []
    },
    {
      "cell_type": "code",
      "metadata": {
        "colab": {
          "base_uri": "https://localhost:8080/"
        },
        "id": "JrDVqBvmm_zn",
        "outputId": "6585fb55-33e6-46da-a8dc-316cf513e44e"
      },
      "source": [
        "accuracy_score(y_pred,y_test)"
      ],
      "execution_count": null,
      "outputs": [
        {
          "output_type": "execute_result",
          "data": {
            "text/plain": [
              "0.8"
            ]
          },
          "metadata": {
            "tags": []
          },
          "execution_count": 50
        }
      ]
    },
    {
      "cell_type": "code",
      "metadata": {
        "colab": {
          "base_uri": "https://localhost:8080/"
        },
        "id": "c6fs9tNnm_2J",
        "outputId": "47d5b1a9-1f61-4a83-855e-ed6479e539c5"
      },
      "source": [
        "confusion_matrix(y_pred,y_test)"
      ],
      "execution_count": null,
      "outputs": [
        {
          "output_type": "execute_result",
          "data": {
            "text/plain": [
              "array([[4, 1],\n",
              "       [2, 8]])"
            ]
          },
          "metadata": {
            "tags": []
          },
          "execution_count": 55
        }
      ]
    },
    {
      "cell_type": "code",
      "metadata": {
        "id": "0zJ7pz5Um_4t"
      },
      "source": [
        "import pickle\n",
        "pickle.dump(clf,open('img_model.p','wb'))"
      ],
      "execution_count": null,
      "outputs": []
    },
    {
      "cell_type": "code",
      "metadata": {
        "id": "ssn6Kt53m_7K"
      },
      "source": [
        "model=pickle.load(open('img_model.p','rb'))"
      ],
      "execution_count": null,
      "outputs": []
    },
    {
      "cell_type": "code",
      "metadata": {
        "colab": {
          "base_uri": "https://localhost:8080/",
          "height": 322
        },
        "id": "tTKVWhVOoxK2",
        "outputId": "5d977836-4f76-48e2-c839-1edbda9f413d"
      },
      "source": [
        "flat_data=[]\n",
        "url= input('Enter your URL')\n",
        "img= imread(url)\n",
        "img_resized=resize(img ,(150,150,3))\n",
        "flat_data.append(img_resized.flatten())\n",
        "flat_data = np.array(flat_data)\n",
        "print(img.shape)\n",
        "plt.imshow(img_resized)\n",
        "y_out= model.predict(flat_data)\n",
        "y_out= CATEGORIES[y_out[0]]\n",
        "print(f' PREDICTED OUTPUT: {y_out}')"
      ],
      "execution_count": null,
      "outputs": [
        {
          "output_type": "stream",
          "text": [
            "Enter your URLhttps://image.shutterstock.com/image-photo/chairs-umbrella-palm-beach-tropical-260nw-559599520.jpg\n",
            "(280, 590, 3)\n",
            " PREDICTED OUTPUT: beach\n"
          ],
          "name": "stdout"
        },
        {
          "output_type": "display_data",
          "data": {
            "image/png": "[encoded data removed]",
            "text/plain": [
              "<Figure size 432x288 with 1 Axes>"
            ]
          },
          "metadata": {
            "tags": [],
            "needs_background": "light"
          }
        }
      ]
    },
    {
      "cell_type": "code",
      "metadata": {
        "id": "NJIUkmzNoxNT"
      },
      "source": [
        "\n"
      ],
      "execution_count": null,
      "outputs": []
    },
    {
      "cell_type": "code",
      "metadata": {
        "id": "5K8J_BreoxQG"
      },
      "source": [
        ""
      ],
      "execution_count": null,
      "outputs": []
    },
    {
      "cell_type": "code",
      "metadata": {
        "id": "bKED7orBoxS9"
      },
      "source": [
        ""
      ],
      "execution_count": null,
      "outputs": []
    },
    {
      "cell_type": "code",
      "metadata": {
        "id": "6p892Zj1oxVG"
      },
      "source": [
        ""
      ],
      "execution_count": null,
      "outputs": []
    }
  ]
}